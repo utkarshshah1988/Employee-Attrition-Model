{
 "cells": [
  {
   "cell_type": "code",
   "execution_count": 1,
   "id": "6e3b0256",
   "metadata": {},
   "outputs": [],
   "source": [
    "import numpy as np\n",
    "import pandas as pd\n",
    "from sklearn.preprocessing import LabelEncoder\n",
    "import pickle\n",
    "import gradio as gr\n",
    "import warnings\n",
    "warnings.simplefilter(\"ignore\")"
   ]
  },
  {
   "cell_type": "code",
   "execution_count": 2,
   "id": "d9c9f1c1",
   "metadata": {},
   "outputs": [],
   "source": [
    "# load model from pickle file\n",
    "\n",
    "model_pkl_file = 'emp_attrition_model.pkl' \n",
    "\n",
    "with open(model_pkl_file, 'rb') as file:  \n",
    "    model = pickle.load(file)"
   ]
  },
  {
   "cell_type": "code",
   "execution_count": 3,
   "id": "14cc9e1c",
   "metadata": {},
   "outputs": [],
   "source": [
    "def get_obj_col(df):\n",
    "    return list(df.select_dtypes(include='object').columns)"
   ]
  },
  {
   "cell_type": "code",
   "execution_count": 4,
   "id": "96f4a00b",
   "metadata": {},
   "outputs": [],
   "source": [
    "def get_cat_col(df):\n",
    "    return list(df.select_dtypes(include='category').columns)"
   ]
  },
  {
   "cell_type": "code",
   "execution_count": 5,
   "id": "6e295c7a",
   "metadata": {},
   "outputs": [],
   "source": [
    "#Convert Object type columns into categorical type\n",
    "def convert_obj_cat(df):\n",
    "    obj_col = get_obj_col(df)\n",
    "    df[obj_col] = df[obj_col].astype('category')\n",
    "    return df"
   ]
  },
  {
   "cell_type": "code",
   "execution_count": 6,
   "id": "ccc23f25",
   "metadata": {},
   "outputs": [],
   "source": [
    "def encode_data(df):        \n",
    "    #le = LabelEncoder()\n",
    "    cat_col = get_cat_col(df)\n",
    "    for col in cat_col:\n",
    "        lable_file = col + 'label_encoder.pkl'\n",
    "        #print(lable_file)\n",
    "        \n",
    "        with open(lable_file, 'rb') as file:  \n",
    "            le = pickle.load(file)\n",
    "        #print(le.classes_)\n",
    "        df[col] = le.transform(df[col])\n",
    "    return df"
   ]
  },
  {
   "cell_type": "code",
   "execution_count": 7,
   "id": "8618700a",
   "metadata": {},
   "outputs": [],
   "source": [
    "def transform_data_clean(df):\n",
    "    return encode_data(convert_obj_cat(df))"
   ]
  },
  {
   "cell_type": "code",
   "execution_count": 8,
   "id": "6e04bca7",
   "metadata": {},
   "outputs": [],
   "source": [
    "def predict(Age, BusinessTravel, DailyRate, Department, DistanceFromHome, Education, EducationField,EnvironmentSatisfaction, Gender, JobInvolvement, JobLevel, JobRole, JobSatisfaction, MaritalStatus, MonthlyIncome, NumCompaniesWorked, OverTime, PercentSalaryHike, PerformanceRating, RelationshipSatisfaction, StockOptionLevel, TotalWorkingYears, TrainingTimesLastYear, WorkLifeBalance, YearsAtCompany, YearsInCurrentRole, YearsSinceLastPromotion, YearsWithCurrManager):\n",
    "    # Create a dictionary of the input values\n",
    "    input_dict = {\n",
    "        \"Age\": Age,\n",
    "        \"BusinessTravel\": BusinessTravel,\n",
    "        \"DailyRate\": DailyRate,\n",
    "        \"Department\": Department,\n",
    "        \"DistanceFromHome\": DistanceFromHome,\n",
    "        \"Education\": Education,\n",
    "        \"EducationField\": EducationField,\n",
    "        \"EnvironmentSatisfaction\":EnvironmentSatisfaction,\n",
    "        \"Gender\": Gender,\n",
    "        \"JobInvolvement\": JobInvolvement,\n",
    "        \"JobLevel\": JobLevel,\n",
    "        \"JobRole\": JobRole,\n",
    "        \"JobSatisfaction\": JobSatisfaction,\n",
    "        \"MaritalStatus\": MaritalStatus,\n",
    "        \"MonthlyIncome\":MonthlyIncome,\n",
    "        \"NumCompaniesWorked\": NumCompaniesWorked,\n",
    "        \"OverTime\":OverTime,\n",
    "        \"PercentSalaryHike\": PercentSalaryHike,\n",
    "        \"PerformanceRating\": PerformanceRating,\n",
    "        \"RelationshipSatisfaction\":RelationshipSatisfaction,\n",
    "        \"StockOptionLevel\":StockOptionLevel,\n",
    "        \"TotalWorkingYears\": TotalWorkingYears,\n",
    "        \"TrainingTimesLastYear\":TrainingTimesLastYear,\n",
    "        \"WorkLifeBalance\": WorkLifeBalance,\n",
    "        \"YearsAtCompany\": YearsAtCompany,\n",
    "        \"YearsInCurrentRole\": YearsInCurrentRole,\n",
    "        \"YearsSinceLastPromotion\": YearsSinceLastPromotion,\n",
    "        \"YearsWithCurrManager\": YearsWithCurrManager\n",
    "    }\n",
    "    \n",
    "    # Create a pandas dataframe from the input dictionary\n",
    "    df = pd.DataFrame(input_dict, index=[0])\n",
    "    df = transform_data_clean(df)\n",
    "    \n",
    "    lable_file = 'Attritionlabel_encoder.pkl'\n",
    "    with open(lable_file, 'rb') as file:  \n",
    "            le = pickle.load(file)\n",
    "    result = np.ravel(model.predict(df))\n",
    "    \n",
    "    lable_file = 'Attritionlabel_encoder.pkl'\n",
    "    with open(lable_file, 'rb') as file:\n",
    "        le = pickle.load(file)\n",
    "    \n",
    "    result = le.classes_[result]\n",
    "    \n",
    "    \n",
    "    return result"
   ]
  },
  {
   "cell_type": "code",
   "execution_count": null,
   "id": "0542f122",
   "metadata": {},
   "outputs": [],
   "source": []
  },
  {
   "cell_type": "code",
   "execution_count": 9,
   "id": "c58e669b",
   "metadata": {},
   "outputs": [
    {
     "name": "stdout",
     "output_type": "stream",
     "text": [
      "Running on local URL:  http://127.0.0.1:7860\n",
      "\n",
      "Thanks for being a Gradio user! If you have questions or feedback, please join our Discord server and chat with us: https://discord.gg/feTf9x3ZSB\n",
      "\n",
      "To create a public link, set `share=True` in `launch()`.\n"
     ]
    },
    {
     "data": {
      "text/html": [
       "<div><iframe src=\"http://127.0.0.1:7860/\" width=\"100%\" height=\"500\" allow=\"autoplay; camera; microphone; clipboard-read; clipboard-write;\" frameborder=\"0\" allowfullscreen></iframe></div>"
      ],
      "text/plain": [
       "<IPython.core.display.HTML object>"
      ]
     },
     "metadata": {},
     "output_type": "display_data"
    },
    {
     "data": {
      "text/plain": []
     },
     "execution_count": 9,
     "metadata": {},
     "output_type": "execute_result"
    }
   ],
   "source": [
    "inputs = [\n",
    "    gr.components.Number(label=\"Age\"),\n",
    "    gr.components.Dropdown(choices=[\"Travel_Rarely\", \"Travel_Frequently\", \"Non-Travel\"], label=\"BusinessTravel\"),\n",
    "    gr.components.Number(label=\"DailyRate\"),\n",
    "    gr.components.Dropdown(choices=[\"Sales\",\"Research & Development\",\"Human Resources\"], label=\"Department\"),\n",
    "    gr.components.Number(label=\"DistanceFromHome\"),\n",
    "    gr.components.Dropdown(choices=[\"Below College\",\"College\",\"Bachelor\",\"Master\",\"Doctor\"], label=\"Education\"),\n",
    "    gr.components.Dropdown(choices=[\"Life Sciences\", \"Medical\", \"Marketing\", \"Technical Degree\", \"Other\"], label=\"Education Field\"),\n",
    "    gr.components.Dropdown(choices=[1, 2, 3, 4, 5], label=\"EnvironmentSatisfaction\"),\n",
    "    gr.components.Dropdown(choices=[\"Male\", \"Female\"], label=\"Gender\"),\n",
    "    gr.components.Dropdown(choices=[1, 2, 3, 4], label=\"JobInvolvement\"),\n",
    "    gr.components.Dropdown(choices=[1, 2, 3, 4, 5], label=\"Job Level\"),\n",
    "    gr.components.Dropdown(choices=[\"Sales Executive\",\"Research Scientist\",\"Laboratory Technician\",\"Manufacturing Director\",\"Healthcare Representative\",\"Manager\",\"Sales Representative\",\"Research Director\",\"Human Resources\"], label=\"Job Role\"),\n",
    "    gr.components.Dropdown(choices=[1, 2, 3, 4], label=\"JobSatisfaction\"),\n",
    "    gr.components.Dropdown(choices=[\"Single\", \"Married\", \"Divorced\"], label=\"Marital Status\"),\n",
    "    gr.components.Number(label=\"MonthlyIncome\"),\n",
    "    gr.components.Number(label=\"No of Companies Worked\"),\n",
    "    gr.components.Dropdown(choices=[\"Yes\",\"No\"], label=\"OverTime\"),\n",
    "    gr.components.Number(label=\"Last Percent Salary Hike\"),\n",
    "    gr.components.Dropdown(choices=[1, 2, 3], label=\"Last Performance Rating\"),\n",
    "    gr.components.Dropdown(choices=[1, 2, 3, 4], label=\"RelationshipSatisfaction\"),\n",
    "    gr.components.Dropdown(choices=[0,1, 2, 3], label=\"StockOptionLevel\"),\n",
    "    gr.components.Number(label=\"TrainingTimesLastYear\"),\n",
    "    gr.components.Number(label=\"TotalWorkingYears\"),\n",
    "    gr.components.Dropdown(choices=[\"Bad\",\"Good\",\"Better\",\"Best\"], label=\"Work-Life Balance\"),\n",
    "    gr.components.Number(label=\"Years At Company\"),\n",
    "    gr.components.Number(label=\"Years In CurrentRole\"),\n",
    "    gr.components.Number(label=\"Years Since Last romotion\"),\n",
    "    gr.components.Number(label=\"Years With Current Manager\")\n",
    "]\n",
    "\n",
    "examples =  [\n",
    "[41, \"Travel_Rarely\", 1102, \"Sales\", 1, 2, \"Life Sciences\", 2, \"Female\", 3, 2, \"Sales Executive\", 4, \"Single\", 5993, 8, \"Yes\", 11, 3, 1, 0, 8, 0, 1, 6, 4, 0, 5],\n",
    "[49, \"Travel_Frequently\", 279, \"Research & Development\", 8, 1, \"Life Sciences\", 3, \"Male\", 2, 2, \"Research Scientist\", 2, \"Married\", 5130, 1, \"No\", 23, 4, 4, 1, 10, 3, 3, 10, 7, 1, 7],\n",
    "[37, \"Travel_Rarely\", 1373, \"Research & Development\", 2, 2, \"Other\", 4, \"Male\", 2, 1, \"Laboratory Technician\", 3, \"Single\", 2090, 6, \"Yes\", 15, 3, 2, 0, 7, 3, 3, 0, 0, 0, 0],\n",
    "[33, \"Travel_Frequently\", 1392, \"Research & Development\", 3, 4, \"Life Sciences\", 4, \"Female\", 3, 1, \"Research Scientist\", 3, \"Married\", 2909, 1, \"Yes\", 11, 3, 3, 0, 8, 3, 3, 8, 7, 3, 0],\n",
    "[27, \"Travel_Rarely\", 591, \"Research & Development\", 2, 1, \"Medical\", 1, \"Male\", 3, 1, \"Laboratory Technician\", 2, \"Married\", 3468, 9, \"No\", 12, 3, 4, 1, 6, 3, 3, 2, 2, 2, 2],\n",
    "[32, \"Travel_Frequently\", 1005, \"Research & Development\", 2, 2, \"Life Sciences\", 4, \"Male\", 3, 1, \"Laboratory Technician\", 4, \"Single\", 3068, 0, \"No\", 13, 3, 3, 0, 8, 2, 2, 7, 7, 3, 6],\n",
    "[59, \"Travel_Rarely\", 1324, \"Research & Development\", 3, 3, \"Medical\", 3, \"Female\", 4, 1, \"Laboratory Technician\", 1, \"Married\", 2670, 4, \"Yes\", 20, 4, 1, 3, 12, 3, 2, 1, 0, 0, 0],\n",
    "[30, \"Travel_Rarely\", 1358, \"Research & Development\", 24, 1, \"Life Sciences\", 4, \"Male\", 3, 1, \"Laboratory Technician\", 3, \"Divorced\", 2693, 1, \"No\", 22, 4, 2, 1, 1, 2, 3, 1, 0, 0, 0],\n",
    "[38, \"Travel_Frequently\", 216, \"Research & Development\", 23, 3, \"Life Sciences\", 4, \"Male\", 2, 3, \"Manufacturing Director\", 3, \"Single\", 9526, 0, \"No\", 21, 4, 2, 0, 10, 2, 3, 9, 7, 1, 8],\n",
    "[36, \"Travel_Rarely\", 1299, \"Research & Development\", 27, 3, \"Medical\", 3, \"Male\", 3, 2, \"Healthcare Representative\", 3, \"Married\", 5237, 6, \"No\", 13, 3, 2, 2, 17, 3, 2, 7, 7, 7, 7]\n",
    "]\n",
    "\n",
    "    \n",
    "#    [24,\"Travel_Frequently\", \"Sales\",20,\"Bachelor\",\"Technical Degree\",\"Female\",2,\"Manager\",2,\"Married\",8,15,2,15,\"Bad\",5,3,2,2],\n",
    "#    [25,\"Travel_Rarely\", \"Research & Development\",20,\"Bachelor\",\"Marketing\",\"Male\",2,\"Director\",2,\"Married\",5,12,2,15,\"Good\",5,3,2,2],\n",
    "#    [36,\"Travel_Rarely\", \"Sales and Marketing\",9,\"Bachelor\",\"Marketing\",\"Female\",2,\"Director\",2,\"Single\",5,12,2,15,\"Bad\",5,3,2,2],\n",
    "#    [41,\"Travel_Rarely\",\"Plan to Build\",1,\"College\",\"Engineering\",\"Female\",2,\"Executive\",4,\"Single\",8,11,1,8,\"Bad\",6,4,0,5]\n",
    "#]\n",
    "\n",
    "outputs = gr.components.Textbox(label=\"Will Employee Leave Soon?\")\n",
    "\n",
    "title = \"Employee Attrition Prediction\"\n",
    "description = \"Enter the required inputs to predict employee attrition.\"\n",
    "\n",
    "#gr.Examples(examples)\n",
    "interface = gr.Interface(fn=predict, inputs=inputs, outputs=outputs, title=title, description=description, examples = examples)\n",
    "interface.launch()"
   ]
  },
  {
   "cell_type": "code",
   "execution_count": null,
   "id": "6e8a795e",
   "metadata": {},
   "outputs": [],
   "source": []
  }
 ],
 "metadata": {
  "kernelspec": {
   "display_name": "Python 3 (ipykernel)",
   "language": "python",
   "name": "python3"
  },
  "language_info": {
   "codemirror_mode": {
    "name": "ipython",
    "version": 3
   },
   "file_extension": ".py",
   "mimetype": "text/x-python",
   "name": "python",
   "nbconvert_exporter": "python",
   "pygments_lexer": "ipython3",
   "version": "3.8.16"
  }
 },
 "nbformat": 4,
 "nbformat_minor": 5
}
